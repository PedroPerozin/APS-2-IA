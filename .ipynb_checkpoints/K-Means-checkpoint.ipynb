{
 "cells": [
  {
   "cell_type": "code",
   "execution_count": 2,
   "metadata": {},
   "outputs": [],
   "source": [
    "import pandas as pd\n",
    "import numpy as np\n",
    "from sklearn.cluster import KMeans\n",
    "import matplotlib.pyplot as plt\n",
    "%matplotlib inline"
   ]
  },
  {
   "cell_type": "code",
   "execution_count": null,
   "metadata": {},
   "outputs": [],
   "source": []
  },
  {
   "cell_type": "code",
   "execution_count": null,
   "metadata": {},
   "outputs": [],
   "source": []
  },
  {
   "cell_type": "code",
   "execution_count": null,
   "metadata": {},
   "outputs": [],
   "source": []
  },
  {
   "cell_type": "code",
   "execution_count": null,
   "metadata": {},
   "outputs": [],
   "source": []
  },
  {
   "cell_type": "code",
   "execution_count": 3,
   "metadata": {},
   "outputs": [],
   "source": [
    "data_path = '/home/clodoaldo/UTFPR/Inteligencia/kmeans/APS-2-IA/Sales_Transactions_Dataset_Weekly.csv'\n",
    "\n",
    "data = pd.read_csv(data_path)\n",
    "sales = data.drop(['Normalized 0', 'Normalized 1', 'Normalized 2', 'Normalized 3',\n",
    "       'Normalized 4', 'Normalized 5', 'Normalized 6', 'Normalized 7',\n",
    "       'Normalized 8', 'Normalized 9', 'Normalized 10', 'Normalized 11',\n",
    "       'Normalized 12', 'Normalized 13', 'Normalized 14', 'Normalized 15',\n",
    "       'Normalized 16', 'Normalized 17', 'Normalized 18', 'Normalized 19',\n",
    "       'Normalized 20', 'Normalized 21', 'Normalized 22', 'Normalized 23',\n",
    "       'Normalized 24', 'Normalized 25', 'Normalized 26', 'Normalized 27',\n",
    "       'Normalized 28', 'Normalized 29', 'Normalized 30', 'Normalized 31',\n",
    "       'Normalized 32', 'Normalized 33', 'Normalized 34', 'Normalized 35',\n",
    "       'Normalized 36', 'Normalized 37', 'Normalized 38', 'Normalized 39',\n",
    "       'Normalized 40', 'Normalized 41', 'Normalized 42', 'Normalized 43',\n",
    "       'Normalized 44', 'Normalized 45', 'Normalized 46', 'Normalized 47',\n",
    "       'Normalized 48', 'Normalized 49', 'Normalized 50', 'Normalized 51'], 1)\n",
    "\n",
    "sales_normal = data.drop(['Product_Code', 'W0', 'W1', 'W2', 'W3', 'W4', 'W5', 'W6', 'W7',\n",
    "       'W8', 'W9', 'W10', 'W11', 'W12', 'W13', 'W14', 'W15', 'W16', 'W17',\n",
    "       'W18', 'W19', 'W20', 'W21', 'W22', 'W23', 'W24', 'W25', 'W26',\n",
    "       'W27', 'W28', 'W29', 'W30', 'W31', 'W32', 'W33', 'W34', 'W35',\n",
    "       'W36', 'W37', 'W38', 'W39', 'W40', 'W41', 'W42', 'W43', 'W44',\n",
    "       'W45', 'W46', 'W47', 'W48', 'W49', 'W50', 'W51', 'MIN', 'MAX'], 1)\n",
    "\n",
    "sales_array = pd.DataFrame(sales).get_values()"
   ]
  },
  {
   "cell_type": "code",
   "execution_count": null,
   "metadata": {},
   "outputs": [],
   "source": []
  },
  {
   "cell_type": "code",
   "execution_count": 8,
   "metadata": {},
   "outputs": [],
   "source": [
    "def mapAux(proto, posicao, distancias):\n",
    "    contador = 0\n",
    "    matriz = []\n",
    "    while cont< len(proto):\n",
    "        aux = []\n",
    "        for i in posicao:\n",
    "            if cont == i[1]:\n",
    "                aux.append(posicao[i[0]][i[1]])\n",
    "        matriz.append(aux)\n",
    "        cont+=1\n",
    "    return matriz\n",
    "\n",
    "\n",
    "def k_means(sales_train, argument, clusters):\n",
    "    posi = np.random.randint(0,len(sales_train),size=clusters)\n",
    "    proto =[]\n",
    "    for i in posi:\n",
    "        proto.append(sales_train[i])\n",
    "    distancias = []\n",
    "    for i in proto:\n",
    "        line = []\n",
    "        for j in sales_train:\n",
    "            if(i!=j):\n",
    "                line.append(euclidian(float(i.snr),float(j.snr)))\n",
    "        distancias.append(line)\n",
    "    posicao = [(i,line.argmin()) for i, line in enumerate(np.array(distancias).T)]\n",
    "    m = mapAux(proto, posicao, distancias)\n",
    "    x = np.array(sales_train).astype(float)\n",
    "    y = np.array(argument)\n",
    "\n",
    "    kmeans = KMeans(n_clusters=clusters, max_iter=8000, algorithm='auto')\n",
    "    kmeans.fit(x)\n",
    "\n",
    "    correct = 0.0\n",
    "    for i in range(len(x)):\n",
    "        predict_me = np.array(x[i]).astype(float)\n",
    "        predict_me = predict_me.reshape(-1, len(predict_me))\n",
    "        prediction = kmeans.predict(predict_me)\n",
    "        if prediction[0] == y[i]:\n",
    "            correct += 1\n",
    "\n",
    "    return correct/len(x)"
   ]
  },
  {
   "cell_type": "code",
   "execution_count": null,
   "metadata": {},
   "outputs": [],
   "source": []
  },
  {
   "cell_type": "code",
   "execution_count": 5,
   "metadata": {},
   "outputs": [
    {
     "name": "stdout",
     "output_type": "stream",
     "text": [
      "0.976572133169\n",
      "0.564734895191\n"
     ]
    }
   ],
   "source": [
    "keep = []\n",
    "sum = 0\n",
    "for i in range(len(sales_array)):\n",
    "    sum = 0\n",
    "    for j in range(1, 52):\n",
    "        sum += sales_array[i][j]\n",
    "    if(sum > 0):\n",
    "        if((sum/52) > 16):\n",
    "            keep.append(1)\n",
    "        else:\n",
    "            keep.append(0)\n",
    "        \n",
    "sales_keep = sales.drop(['Product_Code', 'MIN', 'MAX'], 1)\n",
    "sales_keep['KEEP'] = keep\n",
    "\n",
    "\n",
    "print k_means(sales_keep.drop(['KEEP'], 1), sales_keep['KEEP'], 2)\n",
    "print k_means(sales_normal, sales_keep['KEEP'], 2)"
   ]
  },
  {
   "cell_type": "code",
   "execution_count": 6,
   "metadata": {},
   "outputs": [
    {
     "name": "stdout",
     "output_type": "stream",
     "text": [
      "0.0\n",
      "0.474722564735\n"
     ]
    }
   ],
   "source": [
    "category = []\n",
    "sum = 0\n",
    "for i in range(len(sales_array)):\n",
    "    sum = 0\n",
    "    for j in range(1, 52):\n",
    "        sum += sales_array[i][j]\n",
    "    if(sum > 0):\n",
    "        avg = (sum/52)\n",
    "        if(avg <= 5):\n",
    "            category.append(0)\n",
    "        elif(avg > 5 and avg <= 15):\n",
    "            category.append(1)\n",
    "        elif(avg > 15 and avg <= 25):\n",
    "            category.append(2)\n",
    "        elif(avg > 25):\n",
    "            category.append(3)\n",
    "        \n",
    "sales_category = sales.drop(['Product_Code', 'MIN', 'MAX'], 1)\n",
    "sales_category['CATEGORY'] = category\n",
    "\n",
    "print k_means(sales_category.drop(['CATEGORY'], 1), sales_category['CATEGORY'], 3)\n",
    "print k_means(sales_normal, sales_category['CATEGORY'], 3)"
   ]
  },
  {
   "cell_type": "code",
   "execution_count": null,
   "metadata": {},
   "outputs": [],
   "source": []
  },
  {
   "cell_type": "code",
   "execution_count": null,
   "metadata": {},
   "outputs": [],
   "source": []
  }
 ],
 "metadata": {
  "kernelspec": {
   "display_name": "Python 2",
   "language": "python",
   "name": "python2"
  },
  "language_info": {
   "codemirror_mode": {
    "name": "ipython",
    "version": 2
   },
   "file_extension": ".py",
   "mimetype": "text/x-python",
   "name": "python",
   "nbconvert_exporter": "python",
   "pygments_lexer": "ipython2",
   "version": "2.7.13"
  }
 },
 "nbformat": 4,
 "nbformat_minor": 2
}
